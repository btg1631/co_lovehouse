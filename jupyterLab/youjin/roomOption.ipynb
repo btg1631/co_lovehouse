{
 "cells": [
  {
   "cell_type": "markdown",
   "id": "eb095e80-538a-4552-ab03-a21004c89bfb",
   "metadata": {},
   "source": [
    "## 룸 옵션 등급 매기기"
   ]
  },
  {
   "cell_type": "code",
   "execution_count": 56,
   "id": "0a1176b4-1ec4-422e-8d51-687371dad82b",
   "metadata": {},
   "outputs": [],
   "source": [
    "import pandas as pd\n",
    "df_DABANG = pd.read_csv('DABANG.csv')\n",
    "df_DGDR = pd.read_csv('DGDR.csv')\n",
    "df_WOOJOO = pd.read_csv('WOOJOO.csv')"
   ]
  },
  {
   "cell_type": "code",
   "execution_count": 58,
   "id": "4af925ce-49aa-4a0c-9a63-bc3a7c776751",
   "metadata": {},
   "outputs": [
    {
     "data": {
      "text/html": [
       "<div>\n",
       "<style scoped>\n",
       "    .dataframe tbody tr th:only-of-type {\n",
       "        vertical-align: middle;\n",
       "    }\n",
       "\n",
       "    .dataframe tbody tr th {\n",
       "        vertical-align: top;\n",
       "    }\n",
       "\n",
       "    .dataframe thead th {\n",
       "        text-align: right;\n",
       "    }\n",
       "</style>\n",
       "<table border=\"1\" class=\"dataframe\">\n",
       "  <thead>\n",
       "    <tr style=\"text-align: right;\">\n",
       "      <th></th>\n",
       "      <th>Unnamed: 0</th>\n",
       "      <th>_id</th>\n",
       "      <th>title</th>\n",
       "      <th>roomName</th>\n",
       "      <th>gender</th>\n",
       "      <th>roomType</th>\n",
       "      <th>py</th>\n",
       "      <th>deposit</th>\n",
       "      <th>rentFee</th>\n",
       "      <th>region</th>\n",
       "      <th>brandType</th>\n",
       "      <th>roomOption</th>\n",
       "      <th>url</th>\n",
       "      <th>imgUrl</th>\n",
       "    </tr>\n",
       "  </thead>\n",
       "  <tbody>\n",
       "    <tr>\n",
       "      <th>0</th>\n",
       "      <td>0</td>\n",
       "      <td>65d83d3d586d871d4e26c4d5</td>\n",
       "      <td>이태원431</td>\n",
       "      <td>Room A</td>\n",
       "      <td>2</td>\n",
       "      <td>0</td>\n",
       "      <td>5.0</td>\n",
       "      <td>3000000</td>\n",
       "      <td>620000</td>\n",
       "      <td>녹사평역</td>\n",
       "      <td>0</td>\n",
       "      <td>WIFI 에어컨 세탁기 냉장고</td>\n",
       "      <td>https://www.woozoo.kr/houses/IT431</td>\n",
       "      <td>https://dgdr.co.kr/upload/jijum/238342658_Gf6X...</td>\n",
       "    </tr>\n",
       "    <tr>\n",
       "      <th>1</th>\n",
       "      <td>1</td>\n",
       "      <td>65d83d3f586d871d4e26c4d6</td>\n",
       "      <td>이태원431</td>\n",
       "      <td>Room B</td>\n",
       "      <td>2</td>\n",
       "      <td>0</td>\n",
       "      <td>7.0</td>\n",
       "      <td>3000000</td>\n",
       "      <td>670000</td>\n",
       "      <td>녹사평역</td>\n",
       "      <td>0</td>\n",
       "      <td>WIFI 에어컨 세탁기 냉장고</td>\n",
       "      <td>https://www.woozoo.kr/houses/IT431</td>\n",
       "      <td>https://dgdr.co.kr/upload/jijum/238342658_Gf6X...</td>\n",
       "    </tr>\n",
       "  </tbody>\n",
       "</table>\n",
       "</div>"
      ],
      "text/plain": [
       "   Unnamed: 0                       _id   title roomName  gender  roomType  \\\n",
       "0           0  65d83d3d586d871d4e26c4d5  이태원431   Room A       2         0   \n",
       "1           1  65d83d3f586d871d4e26c4d6  이태원431   Room B       2         0   \n",
       "\n",
       "    py  deposit  rentFee region  brandType         roomOption  \\\n",
       "0  5.0  3000000   620000   녹사평역          0  WIFI 에어컨 세탁기 냉장고    \n",
       "1  7.0  3000000   670000   녹사평역          0  WIFI 에어컨 세탁기 냉장고    \n",
       "\n",
       "                                  url  \\\n",
       "0  https://www.woozoo.kr/houses/IT431   \n",
       "1  https://www.woozoo.kr/houses/IT431   \n",
       "\n",
       "                                              imgUrl  \n",
       "0  https://dgdr.co.kr/upload/jijum/238342658_Gf6X...  \n",
       "1  https://dgdr.co.kr/upload/jijum/238342658_Gf6X...  "
      ]
     },
     "execution_count": 58,
     "metadata": {},
     "output_type": "execute_result"
    }
   ],
   "source": [
    "df_DABANG[:2]\n",
    "df_DGDR[:2]\n",
    "df_WOOJOO[:2]"
   ]
  },
  {
   "cell_type": "code",
   "execution_count": 39,
   "id": "f45515b4-b281-444a-94da-5a1e3e9ed5c1",
   "metadata": {},
   "outputs": [],
   "source": [
    "# 'roomOption' 열의 값들을 문자열로 변환 후 소문자롸 변경\n",
    "df_DABANG['roomOption'] = df_DABANG['roomOption'].astype(str).str.lower()"
   ]
  },
  {
   "cell_type": "code",
   "execution_count": 40,
   "id": "20370dad-9ffb-491a-919e-d06c1ad3bac9",
   "metadata": {},
   "outputs": [
    {
     "data": {
      "text/plain": [
       "0      벽걸이형 책상 옷장 신발장 냉장고 세탁기 싱크대 인덕션 전자레인지 화재경보기 비디오...\n",
       "1                      벽걸이형 침대 신발장 냉장고 세탁기 싱크대 가스레인지 tv \n",
       "2                 벽걸이형 신발장 싱크대 가스레인지 무인택배함 인터폰 cctv 현관보안\n",
       "3      천장형 식탁 신발장 싱크대 인덕션 화재경보기 베란다 무인택배함 비디오폰 인터폰 카드...\n",
       "4      신발장 싱크대 가스레인지 화재경보기 베란다 비디오폰 인터폰 카드키 cctv 사설경비...\n",
       "                             ...                        \n",
       "549    벽걸이형 옷장 신발장 냉장고 세탁기 싱크대 인덕션 화재경보기 인터폰 cctv 현관보...\n",
       "550                           신발장 싱크대 인덕션 비디오폰 cctv 현관보안\n",
       "551                          벽걸이형 신발장 냉장고 세탁기 싱크대 가스레인지 \n",
       "552                        벽걸이형 냉장고 세탁기 싱크대 가스레인지 전자레인지 \n",
       "553    벽걸이형 천장형 옷장 신발장 냉장고 세탁기 건조기 싱크대 인덕션 전자레인지 붙박이장...\n",
       "Name: roomOption, Length: 554, dtype: object"
      ]
     },
     "execution_count": 40,
     "metadata": {},
     "output_type": "execute_result"
    }
   ],
   "source": [
    "df_DABANG['roomOption']"
   ]
  },
  {
   "cell_type": "code",
   "execution_count": 41,
   "id": "56d32b41-3d43-4cfd-a096-5a5764669a44",
   "metadata": {},
   "outputs": [
    {
     "data": {
      "text/plain": [
       "0      [벽걸이형, 책상, 옷장, 신발장, 냉장고, 세탁기, 싱크대, 인덕션, 전자레인지,...\n",
       "1              [벽걸이형, 침대, 신발장, 냉장고, 세탁기, 싱크대, 가스레인지, tv]\n",
       "2        [벽걸이형, 신발장, 싱크대, 가스레인지, 무인택배함, 인터폰, cctv, 현관보안]\n",
       "3      [천장형, 식탁, 신발장, 싱크대, 인덕션, 화재경보기, 베란다, 무인택배함, 비디...\n",
       "4      [신발장, 싱크대, 가스레인지, 화재경보기, 베란다, 비디오폰, 인터폰, 카드키, ...\n",
       "                             ...                        \n",
       "549    [벽걸이형, 옷장, 신발장, 냉장고, 세탁기, 싱크대, 인덕션, 화재경보기, 인터폰...\n",
       "550                    [신발장, 싱크대, 인덕션, 비디오폰, cctv, 현관보안]\n",
       "551                    [벽걸이형, 신발장, 냉장고, 세탁기, 싱크대, 가스레인지]\n",
       "552                  [벽걸이형, 냉장고, 세탁기, 싱크대, 가스레인지, 전자레인지]\n",
       "553    [벽걸이형, 천장형, 옷장, 신발장, 냉장고, 세탁기, 건조기, 싱크대, 인덕션, ...\n",
       "Name: roomOption, Length: 554, dtype: object"
      ]
     },
     "execution_count": 41,
     "metadata": {},
     "output_type": "execute_result"
    }
   ],
   "source": [
    "# 문자열 분리 후 리스트 저장\n",
    "df_DABANG['roomOption'] = df_DABANG['roomOption'].apply(lambda x: x.split())\n",
    "df_DABANG['roomOption']"
   ]
  },
  {
   "cell_type": "code",
   "execution_count": 54,
   "id": "d438388b-ca17-4c12-af00-f47c9d59f7d4",
   "metadata": {},
   "outputs": [],
   "source": [
    "# 공백 값 리스트를 '없음'으로 변환\n",
    "def change_list (get_list):\n",
    "    final_list =[]\n",
    "    for i in get_list:\n",
    "        new_list =[]\n",
    "        if len(i) == 0:\n",
    "            new_list.append('없음')\n",
    "        else:\n",
    "            set_array = set(i) # 중복 제거 \n",
    "            new_list = list(set_array) # (set -> list 변환)\n",
    "        final_list.append(new_list)\n",
    "    return final_list            "
   ]
  },
  {
   "cell_type": "code",
   "execution_count": 53,
   "id": "6721242b-2be3-49e1-97ee-426e98b32ce1",
   "metadata": {},
   "outputs": [],
   "source": [
    "df_DABANG['roomOption'] = change_list(df_DABANG['roomOption'])"
   ]
  },
  {
   "cell_type": "code",
   "execution_count": 35,
   "id": "3f7c70b4-33d0-4eab-b7fb-1ce31bf8eb81",
   "metadata": {},
   "outputs": [
    {
     "ename": "TypeError",
     "evalue": "unhashable type: 'list'",
     "output_type": "error",
     "traceback": [
      "\u001b[0;31m---------------------------------------------------------------------------\u001b[0m",
      "\u001b[0;31mTypeError\u001b[0m                                 Traceback (most recent call last)",
      "Cell \u001b[0;32mIn[35], line 1\u001b[0m\n\u001b[0;32m----> 1\u001b[0m \u001b[43mdf_DABANG\u001b[49m\u001b[43m[\u001b[49m\u001b[38;5;124;43m'\u001b[39;49m\u001b[38;5;124;43mroomOption\u001b[39;49m\u001b[38;5;124;43m'\u001b[39;49m\u001b[43m]\u001b[49m\u001b[38;5;241;43m.\u001b[39;49m\u001b[43munique\u001b[49m\u001b[43m(\u001b[49m\u001b[43m)\u001b[49m\n",
      "File \u001b[0;32m/usr/local/lib/python3.11/site-packages/pandas/core/series.py:2397\u001b[0m, in \u001b[0;36mSeries.unique\u001b[0;34m(self)\u001b[0m\n\u001b[1;32m   2334\u001b[0m \u001b[38;5;28;01mdef\u001b[39;00m \u001b[38;5;21munique\u001b[39m(\u001b[38;5;28mself\u001b[39m) \u001b[38;5;241m-\u001b[39m\u001b[38;5;241m>\u001b[39m ArrayLike:  \u001b[38;5;66;03m# pylint: disable=useless-parent-delegation\u001b[39;00m\n\u001b[1;32m   2335\u001b[0m \u001b[38;5;250m    \u001b[39m\u001b[38;5;124;03m\"\"\"\u001b[39;00m\n\u001b[1;32m   2336\u001b[0m \u001b[38;5;124;03m    Return unique values of Series object.\u001b[39;00m\n\u001b[1;32m   2337\u001b[0m \n\u001b[0;32m   (...)\u001b[0m\n\u001b[1;32m   2395\u001b[0m \u001b[38;5;124;03m    Categories (3, object): ['a' < 'b' < 'c']\u001b[39;00m\n\u001b[1;32m   2396\u001b[0m \u001b[38;5;124;03m    \"\"\"\u001b[39;00m\n\u001b[0;32m-> 2397\u001b[0m     \u001b[38;5;28;01mreturn\u001b[39;00m \u001b[38;5;28;43msuper\u001b[39;49m\u001b[43m(\u001b[49m\u001b[43m)\u001b[49m\u001b[38;5;241;43m.\u001b[39;49m\u001b[43munique\u001b[49m\u001b[43m(\u001b[49m\u001b[43m)\u001b[49m\n",
      "File \u001b[0;32m/usr/local/lib/python3.11/site-packages/pandas/core/base.py:1025\u001b[0m, in \u001b[0;36mIndexOpsMixin.unique\u001b[0;34m(self)\u001b[0m\n\u001b[1;32m   1023\u001b[0m     result \u001b[38;5;241m=\u001b[39m values\u001b[38;5;241m.\u001b[39munique()\n\u001b[1;32m   1024\u001b[0m \u001b[38;5;28;01melse\u001b[39;00m:\n\u001b[0;32m-> 1025\u001b[0m     result \u001b[38;5;241m=\u001b[39m \u001b[43malgorithms\u001b[49m\u001b[38;5;241;43m.\u001b[39;49m\u001b[43munique1d\u001b[49m\u001b[43m(\u001b[49m\u001b[43mvalues\u001b[49m\u001b[43m)\u001b[49m\n\u001b[1;32m   1026\u001b[0m \u001b[38;5;28;01mreturn\u001b[39;00m result\n",
      "File \u001b[0;32m/usr/local/lib/python3.11/site-packages/pandas/core/algorithms.py:401\u001b[0m, in \u001b[0;36munique\u001b[0;34m(values)\u001b[0m\n\u001b[1;32m    307\u001b[0m \u001b[38;5;28;01mdef\u001b[39;00m \u001b[38;5;21munique\u001b[39m(values):\n\u001b[1;32m    308\u001b[0m \u001b[38;5;250m    \u001b[39m\u001b[38;5;124;03m\"\"\"\u001b[39;00m\n\u001b[1;32m    309\u001b[0m \u001b[38;5;124;03m    Return unique values based on a hash table.\u001b[39;00m\n\u001b[1;32m    310\u001b[0m \n\u001b[0;32m   (...)\u001b[0m\n\u001b[1;32m    399\u001b[0m \u001b[38;5;124;03m    array([('a', 'b'), ('b', 'a'), ('a', 'c')], dtype=object)\u001b[39;00m\n\u001b[1;32m    400\u001b[0m \u001b[38;5;124;03m    \"\"\"\u001b[39;00m\n\u001b[0;32m--> 401\u001b[0m     \u001b[38;5;28;01mreturn\u001b[39;00m \u001b[43munique_with_mask\u001b[49m\u001b[43m(\u001b[49m\u001b[43mvalues\u001b[49m\u001b[43m)\u001b[49m\n",
      "File \u001b[0;32m/usr/local/lib/python3.11/site-packages/pandas/core/algorithms.py:440\u001b[0m, in \u001b[0;36munique_with_mask\u001b[0;34m(values, mask)\u001b[0m\n\u001b[1;32m    438\u001b[0m table \u001b[38;5;241m=\u001b[39m hashtable(\u001b[38;5;28mlen\u001b[39m(values))\n\u001b[1;32m    439\u001b[0m \u001b[38;5;28;01mif\u001b[39;00m mask \u001b[38;5;129;01mis\u001b[39;00m \u001b[38;5;28;01mNone\u001b[39;00m:\n\u001b[0;32m--> 440\u001b[0m     uniques \u001b[38;5;241m=\u001b[39m \u001b[43mtable\u001b[49m\u001b[38;5;241;43m.\u001b[39;49m\u001b[43munique\u001b[49m\u001b[43m(\u001b[49m\u001b[43mvalues\u001b[49m\u001b[43m)\u001b[49m\n\u001b[1;32m    441\u001b[0m     uniques \u001b[38;5;241m=\u001b[39m _reconstruct_data(uniques, original\u001b[38;5;241m.\u001b[39mdtype, original)\n\u001b[1;32m    442\u001b[0m     \u001b[38;5;28;01mreturn\u001b[39;00m uniques\n",
      "File \u001b[0;32mpandas/_libs/hashtable_class_helper.pxi:7248\u001b[0m, in \u001b[0;36mpandas._libs.hashtable.PyObjectHashTable.unique\u001b[0;34m()\u001b[0m\n",
      "File \u001b[0;32mpandas/_libs/hashtable_class_helper.pxi:7195\u001b[0m, in \u001b[0;36mpandas._libs.hashtable.PyObjectHashTable._unique\u001b[0;34m()\u001b[0m\n",
      "\u001b[0;31mTypeError\u001b[0m: unhashable type: 'list'"
     ]
    }
   ],
   "source": [
    "df_DABANG['roomOption'].unique()"
   ]
  },
  {
   "cell_type": "code",
   "execution_count": null,
   "id": "af457731-5652-481b-b634-eed1a011ae81",
   "metadata": {},
   "outputs": [],
   "source": []
  }
 ],
 "metadata": {
  "kernelspec": {
   "display_name": "Python 3 (ipykernel)",
   "language": "python",
   "name": "python3"
  },
  "language_info": {
   "codemirror_mode": {
    "name": "ipython",
    "version": 3
   },
   "file_extension": ".py",
   "mimetype": "text/x-python",
   "name": "python",
   "nbconvert_exporter": "python",
   "pygments_lexer": "ipython3",
   "version": "3.11.8"
  }
 },
 "nbformat": 4,
 "nbformat_minor": 5
}
