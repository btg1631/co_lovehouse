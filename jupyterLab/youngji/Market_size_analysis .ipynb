{
 "cells": [
  {
   "cell_type": "code",
   "execution_count": 3,
   "id": "2c585d7d-9103-4dc3-9c94-0da6348e6107",
   "metadata": {},
   "outputs": [],
   "source": [
    "import pandas as pd\n",
    "df_DABANG = pd.read_csv('DABANG.csv')\n",
    "df_BRAND = pd.read_csv('COLIVING_trans.csv')"
   ]
  },
  {
   "cell_type": "code",
   "execution_count": 4,
   "id": "8eecc855-b94d-4030-9051-71447bf4b987",
   "metadata": {
    "scrolled": true
   },
   "outputs": [
    {
     "data": {
      "text/html": [
       "<div>\n",
       "<style scoped>\n",
       "    .dataframe tbody tr th:only-of-type {\n",
       "        vertical-align: middle;\n",
       "    }\n",
       "\n",
       "    .dataframe tbody tr th {\n",
       "        vertical-align: top;\n",
       "    }\n",
       "\n",
       "    .dataframe thead th {\n",
       "        text-align: right;\n",
       "    }\n",
       "</style>\n",
       "<table border=\"1\" class=\"dataframe\">\n",
       "  <thead>\n",
       "    <tr style=\"text-align: right;\">\n",
       "      <th></th>\n",
       "      <th>Unnamed: 0</th>\n",
       "      <th>_id</th>\n",
       "      <th>title</th>\n",
       "      <th>roomName</th>\n",
       "      <th>gender</th>\n",
       "      <th>roomType</th>\n",
       "      <th>py</th>\n",
       "      <th>deposit</th>\n",
       "      <th>rentFee</th>\n",
       "      <th>region</th>\n",
       "      <th>brandType</th>\n",
       "      <th>roomOption</th>\n",
       "      <th>url</th>\n",
       "      <th>imgUrl</th>\n",
       "    </tr>\n",
       "  </thead>\n",
       "  <tbody>\n",
       "    <tr>\n",
       "      <th>0</th>\n",
       "      <td>0</td>\n",
       "      <td>65daa6126a079dcae275c4e4</td>\n",
       "      <td>매물번호 42074288</td>\n",
       "      <td>매물번호 42074288</td>\n",
       "      <td>0</td>\n",
       "      <td>0</td>\n",
       "      <td>19.83</td>\n",
       "      <td>10000000</td>\n",
       "      <td>560000</td>\n",
       "      <td>신림동</td>\n",
       "      <td>0</td>\n",
       "      <td>벽걸이형 책상 옷장 신발장 냉장고 세탁기 싱크대 인덕션 전자레인지 화재경보기 비디오...</td>\n",
       "      <td>https://www.dabangapp.com/room/65cb0d5768ba5a6...</td>\n",
       "      <td>https://d1774jszgerdmk.cloudfront.net/1024/uCt...</td>\n",
       "    </tr>\n",
       "    <tr>\n",
       "      <th>1</th>\n",
       "      <td>1</td>\n",
       "      <td>65daa6156a079dcae275c4e5</td>\n",
       "      <td>매물번호 42051547</td>\n",
       "      <td>매물번호 42051547</td>\n",
       "      <td>0</td>\n",
       "      <td>1</td>\n",
       "      <td>26.32</td>\n",
       "      <td>20000000</td>\n",
       "      <td>750000</td>\n",
       "      <td>수유동</td>\n",
       "      <td>0</td>\n",
       "      <td>벽걸이형 침대 신발장 냉장고 세탁기 싱크대 가스레인지 TV</td>\n",
       "      <td>https://www.dabangapp.com/room/65caca7b9d7b5a0...</td>\n",
       "      <td>https://d1774jszgerdmk.cloudfront.net/1024/uCt...</td>\n",
       "    </tr>\n",
       "  </tbody>\n",
       "</table>\n",
       "</div>"
      ],
      "text/plain": [
       "   Unnamed: 0                       _id          title       roomName  gender  \\\n",
       "0           0  65daa6126a079dcae275c4e4  매물번호 42074288  매물번호 42074288       0   \n",
       "1           1  65daa6156a079dcae275c4e5  매물번호 42051547  매물번호 42051547       0   \n",
       "\n",
       "   roomType     py   deposit  rentFee region  brandType  \\\n",
       "0         0  19.83  10000000   560000    신림동          0   \n",
       "1         1  26.32  20000000   750000    수유동          0   \n",
       "\n",
       "                                          roomOption  \\\n",
       "0  벽걸이형 책상 옷장 신발장 냉장고 세탁기 싱크대 인덕션 전자레인지 화재경보기 비디오...   \n",
       "1                  벽걸이형 침대 신발장 냉장고 세탁기 싱크대 가스레인지 TV    \n",
       "\n",
       "                                                 url  \\\n",
       "0  https://www.dabangapp.com/room/65cb0d5768ba5a6...   \n",
       "1  https://www.dabangapp.com/room/65caca7b9d7b5a0...   \n",
       "\n",
       "                                              imgUrl  \n",
       "0  https://d1774jszgerdmk.cloudfront.net/1024/uCt...  \n",
       "1  https://d1774jszgerdmk.cloudfront.net/1024/uCt...  "
      ]
     },
     "execution_count": 4,
     "metadata": {},
     "output_type": "execute_result"
    }
   ],
   "source": [
    "df_DABANG[:2]"
   ]
  },
  {
   "cell_type": "code",
   "execution_count": 5,
   "id": "7d25d6fc-22b3-4143-9a01-8db04eced1b2",
   "metadata": {},
   "outputs": [
    {
     "data": {
      "text/html": [
       "<div>\n",
       "<style scoped>\n",
       "    .dataframe tbody tr th:only-of-type {\n",
       "        vertical-align: middle;\n",
       "    }\n",
       "\n",
       "    .dataframe tbody tr th {\n",
       "        vertical-align: top;\n",
       "    }\n",
       "\n",
       "    .dataframe thead th {\n",
       "        text-align: right;\n",
       "    }\n",
       "</style>\n",
       "<table border=\"1\" class=\"dataframe\">\n",
       "  <thead>\n",
       "    <tr style=\"text-align: right;\">\n",
       "      <th></th>\n",
       "      <th>Unnamed: 0</th>\n",
       "      <th>_id</th>\n",
       "      <th>title</th>\n",
       "      <th>roomName</th>\n",
       "      <th>gender</th>\n",
       "      <th>roomType</th>\n",
       "      <th>py</th>\n",
       "      <th>deposit</th>\n",
       "      <th>rentFee</th>\n",
       "      <th>region</th>\n",
       "      <th>brandType</th>\n",
       "      <th>roomOption</th>\n",
       "      <th>url</th>\n",
       "      <th>imgUrl</th>\n",
       "      <th>station</th>\n",
       "      <th>station_region</th>\n",
       "    </tr>\n",
       "  </thead>\n",
       "  <tbody>\n",
       "    <tr>\n",
       "      <th>0</th>\n",
       "      <td>0</td>\n",
       "      <td>65dc3805fbdcd7489dc7823b</td>\n",
       "      <td>하품 SKY</td>\n",
       "      <td>SKY</td>\n",
       "      <td>공용</td>\n",
       "      <td>1인실</td>\n",
       "      <td>65.6</td>\n",
       "      <td>50000000</td>\n",
       "      <td>450000</td>\n",
       "      <td>교대역</td>\n",
       "      <td>하품</td>\n",
       "      <td>천장형 냉난방 에어컨\\n바닥 난방 시스템\\n원목 수납 침대(SS), 매트리스\\n오픈...</td>\n",
       "      <td>https://www.hapoom.co/gyodae-co-living</td>\n",
       "      <td>https://static.wixstatic.com/media/acb830_03ba...</td>\n",
       "      <td>교대</td>\n",
       "      <td>서초동</td>\n",
       "    </tr>\n",
       "    <tr>\n",
       "      <th>1</th>\n",
       "      <td>1</td>\n",
       "      <td>65dc3805fbdcd7489dc7823c</td>\n",
       "      <td>하품 ROUND</td>\n",
       "      <td>ROUND</td>\n",
       "      <td>공용</td>\n",
       "      <td>1인실</td>\n",
       "      <td>26.0</td>\n",
       "      <td>30000000</td>\n",
       "      <td>780000</td>\n",
       "      <td>교대역</td>\n",
       "      <td>하품</td>\n",
       "      <td>수납형 싱글 침대\\n매트리스 \\n책상\\n의자\\n옷장\\n수납장\\n바닥 난방 시스템\\n...</td>\n",
       "      <td>https://www.hapoom.co/gyodae-co-living</td>\n",
       "      <td>https://mblogthumb-phinf.pstatic.net/MjAyMTExM...</td>\n",
       "      <td>교대</td>\n",
       "      <td>서초동</td>\n",
       "    </tr>\n",
       "  </tbody>\n",
       "</table>\n",
       "</div>"
      ],
      "text/plain": [
       "   Unnamed: 0                       _id     title roomName gender roomType  \\\n",
       "0           0  65dc3805fbdcd7489dc7823b    하품 SKY      SKY     공용      1인실   \n",
       "1           1  65dc3805fbdcd7489dc7823c  하품 ROUND    ROUND     공용      1인실   \n",
       "\n",
       "     py   deposit  rentFee region brandType  \\\n",
       "0  65.6  50000000   450000    교대역        하품   \n",
       "1  26.0  30000000   780000    교대역        하품   \n",
       "\n",
       "                                          roomOption  \\\n",
       "0  천장형 냉난방 에어컨\\n바닥 난방 시스템\\n원목 수납 침대(SS), 매트리스\\n오픈...   \n",
       "1  수납형 싱글 침대\\n매트리스 \\n책상\\n의자\\n옷장\\n수납장\\n바닥 난방 시스템\\n...   \n",
       "\n",
       "                                      url  \\\n",
       "0  https://www.hapoom.co/gyodae-co-living   \n",
       "1  https://www.hapoom.co/gyodae-co-living   \n",
       "\n",
       "                                              imgUrl station station_region  \n",
       "0  https://static.wixstatic.com/media/acb830_03ba...      교대            서초동  \n",
       "1  https://mblogthumb-phinf.pstatic.net/MjAyMTExM...      교대            서초동  "
      ]
     },
     "execution_count": 5,
     "metadata": {},
     "output_type": "execute_result"
    }
   ],
   "source": [
    "df_BRAND[:2]"
   ]
  },
  {
   "cell_type": "markdown",
   "id": "27285977-c4f2-4fc9-b227-9747093a147b",
   "metadata": {},
   "source": [
    "## 양적인 분석 vs 질적인 분석의 차이\n",
    "- 자본주의 -> 가격이 저렴한 매물에 집중한다.\n",
    "- 질적인 -> 브랜드 커뮤니티 -> 비싸더라도 들어간다.\n",
    "\n",
    "- 고객수 * 매물의 가격 을 통해 매출 규모를 알아본다.\n",
    "- 일반부동산 가격 평균 * 자본주의사람들 = 매출 시장규모\n",
    "- 브랜드 가격 평균 * 질적인 사람들 = 매출 시장규모"
   ]
  },
  {
   "cell_type": "code",
   "execution_count": 6,
   "id": "ab64aed0-59f4-482f-97a9-74f60577ee25",
   "metadata": {},
   "outputs": [],
   "source": [
    "DABANG_deposit_mean = df_DABANG['deposit'].mean()\n",
    "DABANG_rentFee_mean = df_DABANG['rentFee'].mean()"
   ]
  },
  {
   "cell_type": "code",
   "execution_count": 7,
   "id": "2514c0f4-440a-480b-8843-cc2ffb0a25ad",
   "metadata": {},
   "outputs": [
    {
     "data": {
      "text/plain": [
       "(18641389.89169675, 533339.3501805054)"
      ]
     },
     "execution_count": 7,
     "metadata": {},
     "output_type": "execute_result"
    }
   ],
   "source": [
    "DABANG_deposit_mean, DABANG_rentFee_mean"
   ]
  },
  {
   "cell_type": "code",
   "execution_count": 8,
   "id": "07ee8789-b7d4-460b-bcb4-9485f3ff27a2",
   "metadata": {},
   "outputs": [],
   "source": [
    "BRAND_deposit_mean = df_BRAND['deposit'].mean()\n",
    "BRAND_rentFee_mean = df_BRAND['rentFee'].mean()"
   ]
  },
  {
   "cell_type": "code",
   "execution_count": 9,
   "id": "ba0c7b1d-938c-49e3-b623-bb6984930b7d",
   "metadata": {},
   "outputs": [
    {
     "data": {
      "text/plain": [
       "(7083333.333333333, 906250.0)"
      ]
     },
     "execution_count": 9,
     "metadata": {},
     "output_type": "execute_result"
    }
   ],
   "source": [
    "BRAND_deposit_mean, BRAND_rentFee_mean"
   ]
  },
  {
   "cell_type": "markdown",
   "id": "04aeba4f-ce1b-4084-8574-a2255129ff7d",
   "metadata": {},
   "source": [
    "- 22년 1인가구는 전체 가구의 34.5%인 750만 2천 가구이다.\n",
    "- 총 1인가구 750만 가구 중 5%정도가 우리 사이트를 이용하고, -> 약 37.5만 가구\n",
    "- 그 중 0.5%가 계약을 할 것이라고 가정한다.                             -> 약 1875 가구\n",
    "\n",
    "- MZ세대의 코리빙하우스에 대한 관심이 늘어나고 있다.\n",
    "- MZ세대란, 1980년~2012년에 태어난 세대를 말한다.\n",
    "- 80년대생이 22년 기준 42세이므로 -> 30대(39세)까지 라고 가정한다.\n",
    "- 22년 연령대별 1인가구는 29세 이하 19.2%, 30대 17.3% -> 총 36.5% 이다.\n",
    "-> 1876가구 중 MZ세대 36.5%는 684가구\n",
    "-> MZ세대가 아닌 가구는 1192가구\n"
   ]
  },
  {
   "cell_type": "markdown",
   "id": "22faf75c-4307-4bdc-989e-1bc31a80d498",
   "metadata": {},
   "source": [
    "- DABANG_deposit_mean, DABANG_rentFee_mean * 1191 = 매출시장규모\n",
    "- BRAND_deposit_mean, BRAND_rentFee_mean * 684 = 매출시장규모"
   ]
  },
  {
   "cell_type": "code",
   "execution_count": 19,
   "id": "937967c6-4728-4f32-8265-5cb56d72ebc2",
   "metadata": {},
   "outputs": [],
   "source": [
    "df_deposit_result = pd.DataFrame({\n",
    "    'common_deposit': [DABANG_deposit_mean * 1191],\n",
    "    'MZ_deposit': [BRAND_deposit_mean * 684]\n",
    "})\n",
    "df_rentFee_result = pd.DataFrame({\n",
    "    'common_rentFee': [DABANG_rentFee_mean * 1191],\n",
    "    'MZ_rentFee': [BRAND_rentFee_mean * 684]\n",
    "})"
   ]
  },
  {
   "cell_type": "code",
   "execution_count": 20,
   "id": "e7a359a1-f431-41ad-8f78-1da1ddb408c0",
   "metadata": {},
   "outputs": [
    {
     "data": {
      "text/html": [
       "<div>\n",
       "<style scoped>\n",
       "    .dataframe tbody tr th:only-of-type {\n",
       "        vertical-align: middle;\n",
       "    }\n",
       "\n",
       "    .dataframe tbody tr th {\n",
       "        vertical-align: top;\n",
       "    }\n",
       "\n",
       "    .dataframe thead th {\n",
       "        text-align: right;\n",
       "    }\n",
       "</style>\n",
       "<table border=\"1\" class=\"dataframe\">\n",
       "  <thead>\n",
       "    <tr style=\"text-align: right;\">\n",
       "      <th></th>\n",
       "      <th>common_deposit</th>\n",
       "      <th>MZ_deposit</th>\n",
       "    </tr>\n",
       "  </thead>\n",
       "  <tbody>\n",
       "    <tr>\n",
       "      <th>0</th>\n",
       "      <td>22201895361.01</td>\n",
       "      <td>4845000000.00</td>\n",
       "    </tr>\n",
       "  </tbody>\n",
       "</table>\n",
       "</div>"
      ],
      "text/plain": [
       "   common_deposit    MZ_deposit\n",
       "0  22201895361.01 4845000000.00"
      ]
     },
     "execution_count": 20,
     "metadata": {},
     "output_type": "execute_result"
    }
   ],
   "source": [
    "pd.options.display.float_format = '{:.2f}'.format\n",
    "df_deposit_result"
   ]
  },
  {
   "cell_type": "code",
   "execution_count": 21,
   "id": "3f3b06d7-bcbb-4787-ae76-6ee3d672afd0",
   "metadata": {},
   "outputs": [
    {
     "data": {
      "text/html": [
       "<div>\n",
       "<style scoped>\n",
       "    .dataframe tbody tr th:only-of-type {\n",
       "        vertical-align: middle;\n",
       "    }\n",
       "\n",
       "    .dataframe tbody tr th {\n",
       "        vertical-align: top;\n",
       "    }\n",
       "\n",
       "    .dataframe thead th {\n",
       "        text-align: right;\n",
       "    }\n",
       "</style>\n",
       "<table border=\"1\" class=\"dataframe\">\n",
       "  <thead>\n",
       "    <tr style=\"text-align: right;\">\n",
       "      <th></th>\n",
       "      <th>common_rentFee</th>\n",
       "      <th>MZ_rentFee</th>\n",
       "    </tr>\n",
       "  </thead>\n",
       "  <tbody>\n",
       "    <tr>\n",
       "      <th>0</th>\n",
       "      <td>635207166.06</td>\n",
       "      <td>619875000.00</td>\n",
       "    </tr>\n",
       "  </tbody>\n",
       "</table>\n",
       "</div>"
      ],
      "text/plain": [
       "   common_rentFee   MZ_rentFee\n",
       "0    635207166.06 619875000.00"
      ]
     },
     "execution_count": 21,
     "metadata": {},
     "output_type": "execute_result"
    }
   ],
   "source": [
    "df_rentFee_result"
   ]
  },
  {
   "cell_type": "code",
   "execution_count": 26,
   "id": "8991fd71-1f67-43af-9329-75edef1a70c0",
   "metadata": {},
   "outputs": [
    {
     "data": {
      "image/png": "[encoded data removed]",
      "text/plain": [
       "<Figure size 640x480 with 1 Axes>"
      ]
     },
     "metadata": {},
     "output_type": "display_data"
    }
   ],
   "source": [
    "import matplotlib.pyplot as plt\n",
    "df_deposit_result.plot(kind='bar')\n",
    "plt.title('deposit')\n",
    "plt.xlabel('deposit')\n",
    "plt.ylabel('Values')\n",
    "plt.show()"
   ]
  },
  {
   "cell_type": "code",
   "execution_count": 27,
   "id": "4f378f0c-eb2a-41c5-9410-11779396b53d",
   "metadata": {},
   "outputs": [
    {
     "data": {
      "image/png": "[encoded data removed]",
      "text/plain": [
       "<Figure size 640x480 with 1 Axes>"
      ]
     },
     "metadata": {},
     "output_type": "display_data"
    }
   ],
   "source": [
    "import matplotlib.pyplot as plt\n",
    "df_rentFee_result.plot(kind='bar')\n",
    "plt.title('rentFee')\n",
    "plt.xlabel('rentFee')\n",
    "plt.ylabel('Values')\n",
    "plt.show()"
   ]
  },
  {
   "cell_type": "markdown",
   "id": "57f5b53a-0541-463d-bc93-b469127e67df",
   "metadata": {},
   "source": [
    "- 보증금의 차이는 일반 사람들이 약 4배 더 높게 나타난다.\n",
    "- MZ세대의 가구 수가 일반 사람들보다 약 2배 정도 적음에도 불구하고 월세 규모가 비슷하다.\n",
    "-> 코리빙하우스의 보증금은 저렴한 반면, 월세는 높다.\n",
    "\n",
    "- 비싼 값을 내고서라도 코리빙하우스에 입주하는 메리트는 일반 부동산과 다른 점인  공용공간, 브랜드마다의 고유 커뮤니티, 프로그램 등을 운영하기 때문이라고 생각됨."
   ]
  }
 ],
 "metadata": {
  "kernelspec": {
   "display_name": "Python 3 (ipykernel)",
   "language": "python",
   "name": "python3"
  },
  "language_info": {
   "codemirror_mode": {
    "name": "ipython",
    "version": 3
   },
   "file_extension": ".py",
   "mimetype": "text/x-python",
   "name": "python",
   "nbconvert_exporter": "python",
   "pygments_lexer": "ipython3",
   "version": "3.11.8"
  }
 },
 "nbformat": 4,
 "nbformat_minor": 5
}
